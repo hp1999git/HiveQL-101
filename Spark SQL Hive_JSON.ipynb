{
  "nbformat": 4,
  "nbformat_minor": 0,
  "metadata": {
    "colab": {
      "provenance": []
    },
    "kernelspec": {
      "name": "python3",
      "display_name": "Python 3"
    },
    "language_info": {
      "name": "python"
    }
  },
  "cells": [
    {
      "cell_type": "code",
      "execution_count": 1,
      "metadata": {
        "colab": {
          "base_uri": "https://localhost:8080/"
        },
        "id": "TU4pfJqrpxFP",
        "outputId": "8afcf34b-ef56-4183-9d52-0ba4ccffb2e9"
      },
      "outputs": [
        {
          "output_type": "stream",
          "name": "stdout",
          "text": [
            "Collecting pyspark\n",
            "  Downloading pyspark-3.5.1.tar.gz (317.0 MB)\n",
            "\u001b[2K     \u001b[90m━━━━━━━━━━━━━━━━━━━━━━━━━━━━━━━━━━━━━━━━\u001b[0m \u001b[32m317.0/317.0 MB\u001b[0m \u001b[31m1.4 MB/s\u001b[0m eta \u001b[36m0:00:00\u001b[0m\n",
            "\u001b[?25h  Preparing metadata (setup.py) ... \u001b[?25l\u001b[?25hdone\n",
            "Requirement already satisfied: py4j==0.10.9.7 in /usr/local/lib/python3.10/dist-packages (from pyspark) (0.10.9.7)\n",
            "Building wheels for collected packages: pyspark\n",
            "  Building wheel for pyspark (setup.py) ... \u001b[?25l\u001b[?25hdone\n",
            "  Created wheel for pyspark: filename=pyspark-3.5.1-py2.py3-none-any.whl size=317488493 sha256=678c97ff1b61d7393985c35ffc54781076c7c4e62154fb8902aa85ec2e8306d2\n",
            "  Stored in directory: /root/.cache/pip/wheels/80/1d/60/2c256ed38dddce2fdd93be545214a63e02fbd8d74fb0b7f3a6\n",
            "Successfully built pyspark\n",
            "Installing collected packages: pyspark\n",
            "Successfully installed pyspark-3.5.1\n"
          ]
        }
      ],
      "source": [
        "!pip install pyspark"
      ]
    },
    {
      "cell_type": "code",
      "source": [
        "from pyspark.sql import HiveContext, Row"
      ],
      "metadata": {
        "id": "M1hHFfu-pzOx"
      },
      "execution_count": 2,
      "outputs": []
    },
    {
      "cell_type": "code",
      "source": [
        "from pyspark.sql import SparkSession\n",
        "if __name__ == \"__main__\":\n",
        "    #session=SparkSession.builder.appName(\"ex1\").master(\"local[2]\").getOrCreate()\n",
        "    #dataFrameReader=session.read\n",
        "    session=SparkSession.builder.enableHiveSupport().getOrCreate()\n",
        "    sc=session.sparkContext\n",
        "    hiveCtx = HiveContext(sc)\n",
        "\n"
      ],
      "metadata": {
        "id": "Qj9S1QadJ-FR",
        "colab": {
          "base_uri": "https://localhost:8080/"
        },
        "outputId": "0b00bc0b-2628-46cd-f304-80ab38c8a9f3"
      },
      "execution_count": 3,
      "outputs": [
        {
          "output_type": "stream",
          "name": "stderr",
          "text": [
            "/usr/local/lib/python3.10/dist-packages/pyspark/sql/context.py:733: FutureWarning: HiveContext is deprecated in Spark 2.0.0. Please use SparkSession.builder.enableHiveSupport().getOrCreate() instead.\n",
            "  warnings.warn(\n",
            "/usr/local/lib/python3.10/dist-packages/pyspark/sql/context.py:113: FutureWarning: Deprecated in 3.0.0. Use SparkSession.builder.getOrCreate() instead.\n",
            "  warnings.warn(\n"
          ]
        }
      ]
    },
    {
      "cell_type": "code",
      "source": [
        "#Creating table from json file\n",
        "import pandas\n",
        "data=pandas.read_json(\"BranchOffice.json\")\n",
        "df=hiveCtx.createDataFrame(data)\n",
        "df.registerTempTable(\"jsontable\")"
      ],
      "metadata": {
        "colab": {
          "base_uri": "https://localhost:8080/"
        },
        "id": "WBSlDfmUPhqx",
        "outputId": "9dfbd163-9625-427b-9186-2a89755f193a"
      },
      "execution_count": 8,
      "outputs": [
        {
          "output_type": "stream",
          "name": "stderr",
          "text": [
            "/usr/local/lib/python3.10/dist-packages/pyspark/sql/dataframe.py:329: FutureWarning: Deprecated in 2.0, use createOrReplaceTempView instead.\n",
            "  warnings.warn(\"Deprecated in 2.0, use createOrReplaceTempView instead.\", FutureWarning)\n"
          ]
        }
      ]
    },
    {
      "cell_type": "code",
      "source": [
        "result=hiveCtx.sql(\"SELECT * FROM jsontable\")\n",
        "result.show(5,truncate=False)\n"
      ],
      "metadata": {
        "colab": {
          "base_uri": "https://localhost:8080/"
        },
        "id": "YoN-A0_FQnf9",
        "outputId": "d1535c07-26b2-4357-da65-10d2c3538c0d"
      },
      "execution_count": 9,
      "outputs": [
        {
          "output_type": "stream",
          "name": "stdout",
          "text": [
            "+---------------+-----------+---------------+-------+--------------------------------------------------------------------------------------------------------------------------------------------------------------------------------------------------------------------------------------------+\n",
            "|name           |location   |address        |revenue|employees                                                                                                                                                                                                                                   |\n",
            "+---------------+-----------+---------------+-------+--------------------------------------------------------------------------------------------------------------------------------------------------------------------------------------------------------------------------------------------+\n",
            "|Branch Office 1|New York   |123 Main Street|3.2    |[{name -> John Doe, position -> Manager, phone -> 555-123-4567, email -> john.doe@example.com}, {name -> Jane Smith, position -> Assistant Manager, phone -> 555-987-6543, email -> jane.smith@example.com}]                                |\n",
            "|Branch Office 2|Los Angeles|456 Oak Avenue |5.5    |[{name -> Michael Johnson, position -> Manager, phone -> 555-456-7890, email -> michael.johnson@example.com}, {name -> Emily Brown, position -> Assistant Manager, phone -> 555-876-5432, email -> emily.brown@example.com}]                |\n",
            "|Branch Office 3|New York   |789 Elm Street |4.2    |[{name -> David Lee, position -> Manager, phone -> 555-789-0123, email -> david.lee@example.com}, {name -> Sarah Taylor, position -> Assistant Manager, phone -> 555-654-3210, email -> sarah.taylor@example.com}]                          |\n",
            "|Branch Office 4|Los Angeles|101 Pine Lane  |8.1    |[{name -> Christopher Martinez, position -> Manager, phone -> 555-321-0987, email -> christopher.martinez@example.com}, {name -> Jessica Nguyen, position -> Assistant Manager, phone -> 555-543-2109, email -> jessica.nguyen@example.com}]|\n",
            "|Branch Office 5|New York   |202 Maple Drive|7.3    |[{name -> Daniel Garcia, position -> Manager, phone -> 555-210-9876, email -> daniel.garcia@example.com}, {name -> Megan Wilson, position -> Assistant Manager, phone -> 555-432-1098, email -> megan.wilson@example.com}]                  |\n",
            "+---------------+-----------+---------------+-------+--------------------------------------------------------------------------------------------------------------------------------------------------------------------------------------------------------------------------------------------+\n",
            "\n"
          ]
        }
      ]
    },
    {
      "cell_type": "code",
      "source": [
        "result2=hiveCtx.sql(\"Select * from jsontable where location='Los Angeles'\")\n",
        "result2.show()"
      ],
      "metadata": {
        "colab": {
          "base_uri": "https://localhost:8080/"
        },
        "id": "ftqBQVOqU2bY",
        "outputId": "e192b76e-fbc4-4951-8369-dd2c171084f5"
      },
      "execution_count": 10,
      "outputs": [
        {
          "output_type": "stream",
          "name": "stdout",
          "text": [
            "+---------------+-----------+--------------+-------+--------------------+\n",
            "|           name|   location|       address|revenue|           employees|\n",
            "+---------------+-----------+--------------+-------+--------------------+\n",
            "|Branch Office 2|Los Angeles|456 Oak Avenue|    5.5|[{name -> Michael...|\n",
            "|Branch Office 4|Los Angeles| 101 Pine Lane|    8.1|[{name -> Christo...|\n",
            "+---------------+-----------+--------------+-------+--------------------+\n",
            "\n"
          ]
        }
      ]
    },
    {
      "cell_type": "code",
      "source": [
        "result3=hiveCtx.sql(\"Select * from jsontable where employees[0].name='John Doe'\")\n",
        "result3.show()"
      ],
      "metadata": {
        "colab": {
          "base_uri": "https://localhost:8080/"
        },
        "id": "AJhXuvTb--K0",
        "outputId": "e6e34e07-fa2d-4e03-8889-18f9c26aa5bb"
      },
      "execution_count": 11,
      "outputs": [
        {
          "output_type": "stream",
          "name": "stdout",
          "text": [
            "+---------------+--------+---------------+-------+--------------------+\n",
            "|           name|location|        address|revenue|           employees|\n",
            "+---------------+--------+---------------+-------+--------------------+\n",
            "|Branch Office 1|New York|123 Main Street|    3.2|[{name -> John Do...|\n",
            "+---------------+--------+---------------+-------+--------------------+\n",
            "\n"
          ]
        }
      ]
    },
    {
      "cell_type": "code",
      "source": [
        "#Practical Exercise: Display the infomration where location is \"New York\" and revenue is less than 5.0"
      ],
      "metadata": {
        "id": "ZA54e1jiM-TN"
      },
      "execution_count": 12,
      "outputs": []
    }
  ]
}