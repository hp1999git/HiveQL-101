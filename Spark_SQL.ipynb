{
  "cells": [
    {
      "cell_type": "code",
      "execution_count": 1,
      "metadata": {
        "colab": {
          "base_uri": "https://localhost:8080/"
        },
        "id": "M5MLIhq24qgT",
        "outputId": "36111d40-25d8-41e6-bb76-5c4043769ea6"
      },
      "outputs": [
        {
          "output_type": "stream",
          "name": "stdout",
          "text": [
            "Collecting pyspark\n",
            "  Downloading pyspark-3.5.0.tar.gz (316.9 MB)\n",
            "\u001b[2K     \u001b[90m━━━━━━━━━━━━━━━━━━━━━━━━━━━━━━━━━━━━━━━━\u001b[0m \u001b[32m316.9/316.9 MB\u001b[0m \u001b[31m4.3 MB/s\u001b[0m eta \u001b[36m0:00:00\u001b[0m\n",
            "\u001b[?25h  Preparing metadata (setup.py) ... \u001b[?25l\u001b[?25hdone\n",
            "Requirement already satisfied: py4j==0.10.9.7 in /usr/local/lib/python3.10/dist-packages (from pyspark) (0.10.9.7)\n",
            "Building wheels for collected packages: pyspark\n",
            "  Building wheel for pyspark (setup.py) ... \u001b[?25l\u001b[?25hdone\n",
            "  Created wheel for pyspark: filename=pyspark-3.5.0-py2.py3-none-any.whl size=317425345 sha256=aa9219aca1aabb3cd863e1c509ab3fc75d51a47f48f15ac20e488d900e019180\n",
            "  Stored in directory: /root/.cache/pip/wheels/41/4e/10/c2cf2467f71c678cfc8a6b9ac9241e5e44a01940da8fbb17fc\n",
            "Successfully built pyspark\n",
            "Installing collected packages: pyspark\n",
            "Successfully installed pyspark-3.5.0\n"
          ]
        }
      ],
      "source": [
        "!pip install pyspark"
      ]
    },
    {
      "cell_type": "code",
      "execution_count": 2,
      "metadata": {
        "id": "t5F32AUB4v7q"
      },
      "outputs": [],
      "source": [
        "from pyspark.sql.session import SparkSession\n",
        "session=SparkSession.builder.appName(\"employeesql\").master(\"local[2]\").getOrCreate()\n",
        "\n"
      ]
    },
    {
      "cell_type": "markdown",
      "source": [
        "A spark data frame can be created by reading a csv file using the spark session as demonstrated in the following example. The argument header is considered for specifying whether the file contains a header or not. The schema can also be inferred depending on the value of “inferSchema”."
      ],
      "metadata": {
        "id": "zYSpWd9IxLsd"
      }
    },
    {
      "cell_type": "code",
      "execution_count": 4,
      "metadata": {
        "id": "KEiA9ud05C8c"
      },
      "outputs": [],
      "source": [
        "hrdata=session.read.csv(\"EmployeeAttrition.csv\", header=True, inferSchema=True)"
      ]
    },
    {
      "cell_type": "code",
      "source": [
        "#Displaying the first 2 rows of the dataset\n",
        "hrdata.show(2, truncate=False)\n",
        "\n",
        "#View the selected columns of some rows\n",
        "hrdata.select(\"Gender\", \"Age\", \"Attrition\").show(5)"
      ],
      "metadata": {
        "colab": {
          "base_uri": "https://localhost:8080/"
        },
        "id": "Bez8IVHjvweb",
        "outputId": "039f96f3-efd6-4d8c-e6b1-7bf6d389f6f9"
      },
      "execution_count": 61,
      "outputs": [
        {
          "output_type": "stream",
          "name": "stdout",
          "text": [
            "+---+---------+-----------------+---------+----------------------+----------------+---------+--------------+-------------+--------------+-----------------------+------+----------+--------------+--------+------------------+---------------+-------------+-------------+-----------+------------------+------+--------+-----------------+-----------------+------------------------+-------------+----------------+-----------------+---------------------+---------------+--------------+------------------+-----------------------+--------------------+\n",
            "|Age|Attrition|BusinessTravel   |DailyRate|Department            |DistanceFromHome|Education|EducationField|EmployeeCount|EmployeeNumber|EnvironmentSatisfaction|Gender|HourlyRate|JobInvolvement|JobLevel|JobRole           |JobSatisfaction|MaritalStatus|MonthlyIncome|MonthlyRate|NumCompaniesWorked|Over18|OverTime|PercentSalaryHike|PerformanceRating|RelationshipSatisfaction|StandardHours|StockOptionLevel|TotalWorkingYears|TrainingTimesLastYear|WorkLifeBalance|YearsAtCompany|YearsInCurrentRole|YearsSinceLastPromotion|YearsWithCurrManager|\n",
            "+---+---------+-----------------+---------+----------------------+----------------+---------+--------------+-------------+--------------+-----------------------+------+----------+--------------+--------+------------------+---------------+-------------+-------------+-----------+------------------+------+--------+-----------------+-----------------+------------------------+-------------+----------------+-----------------+---------------------+---------------+--------------+------------------+-----------------------+--------------------+\n",
            "|41 |Yes      |Travel_Rarely    |1102     |Sales                 |1               |2        |Life Sciences |1            |1             |2                      |Female|94        |3             |2       |Sales Executive   |4              |Single       |5993         |19479      |8                 |Y     |Yes     |11               |3                |1                       |80           |0               |8                |0                    |1              |6             |4                 |0                      |5                   |\n",
            "|49 |No       |Travel_Frequently|279      |Research & Development|8               |1        |Life Sciences |1            |2             |3                      |Male  |61        |2             |2       |Research Scientist|2              |Married      |5130         |24907      |1                 |Y     |No      |23               |4                |4                       |80           |1               |10               |3                    |3              |10            |7                 |1                      |7                   |\n",
            "+---+---------+-----------------+---------+----------------------+----------------+---------+--------------+-------------+--------------+-----------------------+------+----------+--------------+--------+------------------+---------------+-------------+-------------+-----------+------------------+------+--------+-----------------+-----------------+------------------------+-------------+----------------+-----------------+---------------------+---------------+--------------+------------------+-----------------------+--------------------+\n",
            "only showing top 2 rows\n",
            "\n",
            "+------+---+---------+\n",
            "|Gender|Age|Attrition|\n",
            "+------+---+---------+\n",
            "|Female| 41|      Yes|\n",
            "|  Male| 49|       No|\n",
            "|  Male| 37|      Yes|\n",
            "|Female| 33|       No|\n",
            "|  Male| 27|       No|\n",
            "+------+---+---------+\n",
            "only showing top 5 rows\n",
            "\n"
          ]
        }
      ]
    },
    {
      "cell_type": "code",
      "source": [
        "#Displaying Data type\n",
        "print(\"Data type :\",type(hrdata))\n",
        "\n",
        "#Displaying the information of the columns\n",
        "print(\"Information of columns:\\n\",hrdata.columns)\n",
        "\n",
        "#Displaying the information of number of columns\n",
        "print(\"Number of columns:\",len(hrdata.columns))\n",
        "\n",
        "#Displaying Data types of columns\n",
        "print(\"Data Types of all columns:\",hrdata.dtypes)\n",
        "\n",
        "#Displaying the first records\n",
        "print(\"Details of first record:\\n\",hrdata.head(1))\n",
        "\n",
        "#Displaying last two records\n",
        "print(\"Last two records:\",hrdata.tail(2))\n",
        "\n",
        "#Displaying the first record using first() action\n",
        "print(\"First record:\\n\",hrdata.first())\n",
        "\n",
        "#Displaying the first two records using take() action\n",
        "print(\"First two records:\\n\",hrdata.take(2))\n",
        "\n",
        "#Displaying the number of records using count() action\n",
        "print(\"Total Number of records:\",hrdata.count())\n",
        "\n",
        "#Displaying statistics of all columns\n",
        "print(\"Information of dataset:\\n\",hrdata.describe().show())\n",
        "\n",
        "#Displaying statistics of selected columns\n",
        "print(\"Information:\",hrdata.describe('Department','MonthlyRate').show())\n"
      ],
      "metadata": {
        "colab": {
          "base_uri": "https://localhost:8080/"
        },
        "id": "oL2BI9ouxXHx",
        "outputId": "6aba0f37-3521-4cdb-de39-9a1ef3b117d8"
      },
      "execution_count": 62,
      "outputs": [
        {
          "output_type": "stream",
          "name": "stdout",
          "text": [
            "Data type : <class 'pyspark.sql.dataframe.DataFrame'>\n",
            "Information of columns:\n",
            " ['Age', 'Attrition', 'BusinessTravel', 'DailyRate', 'Department', 'DistanceFromHome', 'Education', 'EducationField', 'EmployeeCount', 'EmployeeNumber', 'EnvironmentSatisfaction', 'Gender', 'HourlyRate', 'JobInvolvement', 'JobLevel', 'JobRole', 'JobSatisfaction', 'MaritalStatus', 'MonthlyIncome', 'MonthlyRate', 'NumCompaniesWorked', 'Over18', 'OverTime', 'PercentSalaryHike', 'PerformanceRating', 'RelationshipSatisfaction', 'StandardHours', 'StockOptionLevel', 'TotalWorkingYears', 'TrainingTimesLastYear', 'WorkLifeBalance', 'YearsAtCompany', 'YearsInCurrentRole', 'YearsSinceLastPromotion', 'YearsWithCurrManager']\n",
            "Number of columns: 35\n",
            "Data Types of all columns: [('Age', 'int'), ('Attrition', 'string'), ('BusinessTravel', 'string'), ('DailyRate', 'int'), ('Department', 'string'), ('DistanceFromHome', 'int'), ('Education', 'int'), ('EducationField', 'string'), ('EmployeeCount', 'int'), ('EmployeeNumber', 'int'), ('EnvironmentSatisfaction', 'int'), ('Gender', 'string'), ('HourlyRate', 'int'), ('JobInvolvement', 'int'), ('JobLevel', 'int'), ('JobRole', 'string'), ('JobSatisfaction', 'int'), ('MaritalStatus', 'string'), ('MonthlyIncome', 'int'), ('MonthlyRate', 'int'), ('NumCompaniesWorked', 'int'), ('Over18', 'string'), ('OverTime', 'string'), ('PercentSalaryHike', 'int'), ('PerformanceRating', 'int'), ('RelationshipSatisfaction', 'int'), ('StandardHours', 'int'), ('StockOptionLevel', 'int'), ('TotalWorkingYears', 'int'), ('TrainingTimesLastYear', 'int'), ('WorkLifeBalance', 'int'), ('YearsAtCompany', 'int'), ('YearsInCurrentRole', 'int'), ('YearsSinceLastPromotion', 'int'), ('YearsWithCurrManager', 'int')]\n",
            "Details of first record:\n",
            " [Row(Age=41, Attrition='Yes', BusinessTravel='Travel_Rarely', DailyRate=1102, Department='Sales', DistanceFromHome=1, Education=2, EducationField='Life Sciences', EmployeeCount=1, EmployeeNumber=1, EnvironmentSatisfaction=2, Gender='Female', HourlyRate=94, JobInvolvement=3, JobLevel=2, JobRole='Sales Executive', JobSatisfaction=4, MaritalStatus='Single', MonthlyIncome=5993, MonthlyRate=19479, NumCompaniesWorked=8, Over18='Y', OverTime='Yes', PercentSalaryHike=11, PerformanceRating=3, RelationshipSatisfaction=1, StandardHours=80, StockOptionLevel=0, TotalWorkingYears=8, TrainingTimesLastYear=0, WorkLifeBalance=1, YearsAtCompany=6, YearsInCurrentRole=4, YearsSinceLastPromotion=0, YearsWithCurrManager=5)]\n",
            "Last two records: [Row(Age=49, Attrition='No', BusinessTravel='Travel_Frequently', DailyRate=1023, Department='Sales', DistanceFromHome=2, Education=3, EducationField='Medical', EmployeeCount=1, EmployeeNumber=2065, EnvironmentSatisfaction=4, Gender='Male', HourlyRate=63, JobInvolvement=2, JobLevel=2, JobRole='Sales Executive', JobSatisfaction=2, MaritalStatus='Married', MonthlyIncome=5390, MonthlyRate=13243, NumCompaniesWorked=2, Over18='Y', OverTime='No', PercentSalaryHike=14, PerformanceRating=3, RelationshipSatisfaction=4, StandardHours=80, StockOptionLevel=0, TotalWorkingYears=17, TrainingTimesLastYear=3, WorkLifeBalance=2, YearsAtCompany=9, YearsInCurrentRole=6, YearsSinceLastPromotion=0, YearsWithCurrManager=8), Row(Age=34, Attrition='No', BusinessTravel='Travel_Rarely', DailyRate=628, Department='Research & Development', DistanceFromHome=8, Education=3, EducationField='Medical', EmployeeCount=1, EmployeeNumber=2068, EnvironmentSatisfaction=2, Gender='Male', HourlyRate=82, JobInvolvement=4, JobLevel=2, JobRole='Laboratory Technician', JobSatisfaction=3, MaritalStatus='Married', MonthlyIncome=4404, MonthlyRate=10228, NumCompaniesWorked=2, Over18='Y', OverTime='No', PercentSalaryHike=12, PerformanceRating=3, RelationshipSatisfaction=1, StandardHours=80, StockOptionLevel=0, TotalWorkingYears=6, TrainingTimesLastYear=3, WorkLifeBalance=4, YearsAtCompany=4, YearsInCurrentRole=3, YearsSinceLastPromotion=1, YearsWithCurrManager=2)]\n",
            "First record:\n",
            " Row(Age=41, Attrition='Yes', BusinessTravel='Travel_Rarely', DailyRate=1102, Department='Sales', DistanceFromHome=1, Education=2, EducationField='Life Sciences', EmployeeCount=1, EmployeeNumber=1, EnvironmentSatisfaction=2, Gender='Female', HourlyRate=94, JobInvolvement=3, JobLevel=2, JobRole='Sales Executive', JobSatisfaction=4, MaritalStatus='Single', MonthlyIncome=5993, MonthlyRate=19479, NumCompaniesWorked=8, Over18='Y', OverTime='Yes', PercentSalaryHike=11, PerformanceRating=3, RelationshipSatisfaction=1, StandardHours=80, StockOptionLevel=0, TotalWorkingYears=8, TrainingTimesLastYear=0, WorkLifeBalance=1, YearsAtCompany=6, YearsInCurrentRole=4, YearsSinceLastPromotion=0, YearsWithCurrManager=5)\n",
            "First two records:\n",
            " [Row(Age=41, Attrition='Yes', BusinessTravel='Travel_Rarely', DailyRate=1102, Department='Sales', DistanceFromHome=1, Education=2, EducationField='Life Sciences', EmployeeCount=1, EmployeeNumber=1, EnvironmentSatisfaction=2, Gender='Female', HourlyRate=94, JobInvolvement=3, JobLevel=2, JobRole='Sales Executive', JobSatisfaction=4, MaritalStatus='Single', MonthlyIncome=5993, MonthlyRate=19479, NumCompaniesWorked=8, Over18='Y', OverTime='Yes', PercentSalaryHike=11, PerformanceRating=3, RelationshipSatisfaction=1, StandardHours=80, StockOptionLevel=0, TotalWorkingYears=8, TrainingTimesLastYear=0, WorkLifeBalance=1, YearsAtCompany=6, YearsInCurrentRole=4, YearsSinceLastPromotion=0, YearsWithCurrManager=5), Row(Age=49, Attrition='No', BusinessTravel='Travel_Frequently', DailyRate=279, Department='Research & Development', DistanceFromHome=8, Education=1, EducationField='Life Sciences', EmployeeCount=1, EmployeeNumber=2, EnvironmentSatisfaction=3, Gender='Male', HourlyRate=61, JobInvolvement=2, JobLevel=2, JobRole='Research Scientist', JobSatisfaction=2, MaritalStatus='Married', MonthlyIncome=5130, MonthlyRate=24907, NumCompaniesWorked=1, Over18='Y', OverTime='No', PercentSalaryHike=23, PerformanceRating=4, RelationshipSatisfaction=4, StandardHours=80, StockOptionLevel=1, TotalWorkingYears=10, TrainingTimesLastYear=3, WorkLifeBalance=3, YearsAtCompany=10, YearsInCurrentRole=7, YearsSinceLastPromotion=1, YearsWithCurrManager=7)]\n",
            "Total Number of records: 1470\n",
            "+-------+------------------+---------+--------------+------------------+---------------+----------------+------------------+----------------+-------------+-----------------+-----------------------+------+------------------+------------------+------------------+--------------------+------------------+-------------+-----------------+------------------+------------------+------+--------+------------------+-------------------+------------------------+-------------+------------------+------------------+---------------------+------------------+------------------+------------------+-----------------------+--------------------+\n",
            "|summary|               Age|Attrition|BusinessTravel|         DailyRate|     Department|DistanceFromHome|         Education|  EducationField|EmployeeCount|   EmployeeNumber|EnvironmentSatisfaction|Gender|        HourlyRate|    JobInvolvement|          JobLevel|             JobRole|   JobSatisfaction|MaritalStatus|    MonthlyIncome|       MonthlyRate|NumCompaniesWorked|Over18|OverTime| PercentSalaryHike|  PerformanceRating|RelationshipSatisfaction|StandardHours|  StockOptionLevel| TotalWorkingYears|TrainingTimesLastYear|   WorkLifeBalance|    YearsAtCompany|YearsInCurrentRole|YearsSinceLastPromotion|YearsWithCurrManager|\n",
            "+-------+------------------+---------+--------------+------------------+---------------+----------------+------------------+----------------+-------------+-----------------+-----------------------+------+------------------+------------------+------------------+--------------------+------------------+-------------+-----------------+------------------+------------------+------+--------+------------------+-------------------+------------------------+-------------+------------------+------------------+---------------------+------------------+------------------+------------------+-----------------------+--------------------+\n",
            "|  count|              1470|     1470|          1470|              1470|           1470|            1470|              1470|            1470|         1470|             1470|                   1470|  1470|              1470|              1470|              1470|                1470|              1470|         1470|             1470|              1470|              1470|  1470|    1470|              1470|               1470|                    1470|         1470|              1470|              1470|                 1470|              1470|              1470|              1470|                   1470|                1470|\n",
            "|   mean|36.923809523809524|     NULL|          NULL| 802.4857142857143|           NULL|9.19251700680272| 2.912925170068027|            NULL|          1.0|1024.865306122449|      2.721768707482993|  NULL| 65.89115646258503|2.7299319727891156|2.0639455782312925|                NULL|2.7285714285714286|         NULL|6502.931292517007|14313.103401360544|2.6931972789115646|  NULL|    NULL|15.209523809523809| 3.1537414965986397|      2.7122448979591836|         80.0|0.7938775510204081|11.279591836734694|   2.7993197278911564|2.7612244897959184|7.0081632653061225| 4.229251700680272|     2.1877551020408164|    4.12312925170068|\n",
            "| stddev| 9.135373489136729|     NULL|          NULL|403.50909994352804|           NULL|8.10686443566608|1.0241649445978718|            NULL|          0.0|602.0243348474752|     1.0930822146350003|  NULL|20.329427593996176|0.7115611429632297|1.1069398989351202|                NULL|1.1028461230547213|         NULL|4707.956783097992| 7117.786044059972|2.4980090060707463|  NULL|    NULL|3.6599377165396385|0.36082352460434397|      1.0812088864403517|          0.0|0.8520766679308381| 7.780781675514995|   1.2892706207958466|0.7064758297141507| 6.126525152403571| 3.623137034670627|     3.2224302791379693|  3.5681361205404363|\n",
            "|    min|                18|       No|    Non-Travel|               102|Human Resources|               1|                 1| Human Resources|            1|                1|                      1|Female|                30|                 1|                 1|Healthcare Repres...|                 1|     Divorced|             1009|              2094|                 0|     Y|      No|                11|                  3|                       1|           80|                 0|                 0|                    0|                 1|                 0|                 0|                      0|                   0|\n",
            "|    max|                60|      Yes| Travel_Rarely|              1499|          Sales|              29|                 5|Technical Degree|            1|             2068|                      4|  Male|               100|                 4|                 5|Sales Representative|                 4|       Single|            19999|             26999|                 9|     Y|     Yes|                25|                  4|                       4|           80|                 3|                40|                    6|                 4|                40|                18|                     15|                  17|\n",
            "+-------+------------------+---------+--------------+------------------+---------------+----------------+------------------+----------------+-------------+-----------------+-----------------------+------+------------------+------------------+------------------+--------------------+------------------+-------------+-----------------+------------------+------------------+------+--------+------------------+-------------------+------------------------+-------------+------------------+------------------+---------------------+------------------+------------------+------------------+-----------------------+--------------------+\n",
            "\n",
            "Information of dataset:\n",
            " None\n",
            "+-------+---------------+------------------+\n",
            "|summary|     Department|       MonthlyRate|\n",
            "+-------+---------------+------------------+\n",
            "|  count|           1470|              1470|\n",
            "|   mean|           NULL|14313.103401360544|\n",
            "| stddev|           NULL| 7117.786044059972|\n",
            "|    min|Human Resources|              2094|\n",
            "|    max|          Sales|             26999|\n",
            "+-------+---------------+------------------+\n",
            "\n",
            "Information: None\n"
          ]
        }
      ]
    },
    {
      "cell_type": "markdown",
      "source": [
        "Column Transformations:\n",
        "The column transformations are related to adding, deleting and renaming a new column, deleting duplicate rows etc.  The withColumn() helps to add a new column according to the specified information. A powerful feature of the withColumn() is that it also helps to add values to a new column with a constant value or from the existing column or using the user defined function.  The withColumnRenamed() helps to rename an existing column. The drop() helps to delete the column.\n",
        "\n"
      ],
      "metadata": {
        "id": "BtVGKyB_x83N"
      }
    },
    {
      "cell_type": "code",
      "execution_count": 64,
      "metadata": {
        "colab": {
          "base_uri": "https://localhost:8080/"
        },
        "id": "k51TpBqi5Po0",
        "outputId": "4e5d06e8-69fa-4f1c-cd87-272934769100"
      },
      "outputs": [
        {
          "output_type": "stream",
          "name": "stdout",
          "text": [
            "Number of columns after adding: 36\n",
            "+---------+--------+\n",
            "|DailyRate|new_Rate|\n",
            "+---------+--------+\n",
            "|     1102|    1152|\n",
            "|      279|     329|\n",
            "+---------+--------+\n",
            "only showing top 2 rows\n",
            "\n",
            "+-------------+\n",
            "|new_DailyRate|\n",
            "+-------------+\n",
            "|         1152|\n",
            "|          329|\n",
            "+-------------+\n",
            "only showing top 2 rows\n",
            "\n",
            "Number of columns after deleting: 35\n"
          ]
        }
      ],
      "source": [
        "#Adding a new column named new daily rate\n",
        "hrdata=hrdata.withColumn('new_Rate',hrdata['DailyRate']+50)\n",
        "print(\"Number of columns after adding:\",len(hrdata.columns))\n",
        "hrdata.select('DailyRate', 'new_Rate').show(2)\n",
        "\n",
        "#Renaming the column named \"new_Rate\"\n",
        "hrdata=hrdata.withColumnRenamed('new_Rate','new_DailyRate')\n",
        "hrdata.select('new_DailyRate').show(2)\n",
        "\n",
        "#Using drop() function to delete a column or multiple columns,\n",
        "hrdata=hrdata.drop('new_DailyRate')\n",
        "print(\"Number of columns after deleting:\",len(hrdata.columns))\n",
        "\n",
        "#Writing to a csv file\n",
        "newhrdata=hrdata.drop('new_DailyRate', 'Attrition','DailyRate')\n",
        "newhrdata.coalesce(1).write.format('csv').option('header','true').save(\"newhrdata.csv\")\n"
      ]
    },
    {
      "cell_type": "code",
      "execution_count": 21,
      "metadata": {
        "colab": {
          "base_uri": "https://localhost:8080/"
        },
        "id": "psnXhbfWamIJ",
        "outputId": "7d0659f7-983f-4e42-ffb8-797b96244510"
      },
      "outputs": [
        {
          "output_type": "stream",
          "name": "stdout",
          "text": [
            "+---------------+--------------------+\n",
            "|JobSatisfaction|  Satisfaction_Level|\n",
            "+---------------+--------------------+\n",
            "|              4|   High Satisfaction|\n",
            "|              2|   Less Satisfaction|\n",
            "|              3|Average Satisfaction|\n",
            "|              3|Average Satisfaction|\n",
            "|              2|   Less Satisfaction|\n",
            "+---------------+--------------------+\n",
            "only showing top 5 rows\n",
            "\n"
          ]
        }
      ],
      "source": [
        "#Adding a new column based on the user defined function\n",
        "from pyspark.sql.functions import udf\n",
        "from pyspark.sql.types import *\n",
        "\n",
        "#Creating a function\n",
        "def sat_func(level):\n",
        "    if level> 3:\n",
        "        return 'High Satisfaction'\n",
        "    elif level>2:\n",
        "        return 'Average Satisfaction'\n",
        "    else:\n",
        "        return 'Less Satisfaction'\n",
        "\n",
        "#Creating a user defined function\n",
        "sat_udf=udf(sat_func,StringType())\n",
        "\n",
        "#Adding a new column containing value based on user defined function\n",
        "result2=hrdata.withColumn('Satisfaction_Level',sat_udf(hrdata['JobSatisfaction']))\n",
        "\n",
        "#Displaying the results\n",
        "result2.select(\"JobSatisfaction\",\"Satisfaction_Level\").show(5)\n"
      ]
    },
    {
      "cell_type": "code",
      "source": [
        "#Exercise: Create a new column named “PayLevel” that has values as 1, 2 or 3. The value of paylevel is 1, if dailyrate>1000 ; 2 if it is > 500 else 3."
      ],
      "metadata": {
        "id": "jE1pEuOqzYja"
      },
      "execution_count": 22,
      "outputs": []
    },
    {
      "cell_type": "code",
      "execution_count": 11,
      "metadata": {
        "colab": {
          "base_uri": "https://localhost:8080/"
        },
        "id": "6lbuHLEAb1bn",
        "outputId": "928689b7-61d0-45d1-e915-6e2bf8d97708"
      },
      "outputs": [
        {
          "output_type": "stream",
          "name": "stdout",
          "text": [
            "+---------------------+------+\n",
            "|JobRole              |NewJob|\n",
            "+---------------------+------+\n",
            "|Sales Executive      |Sales |\n",
            "|Research Scientist   |Others|\n",
            "|Laboratory Technician|Others|\n",
            "+---------------------+------+\n",
            "only showing top 3 rows\n",
            "\n"
          ]
        }
      ],
      "source": [
        "#Using user defined function for categorical input variable\n",
        "from pyspark.sql.functions import udf\n",
        "from pyspark.sql.types import *\n",
        "\n",
        "def jobfunc(role):\n",
        "    if role in ['Research Director','Manufacturing Director']:\n",
        "        return 'Senior Position'\n",
        "    elif role in ['Sales Executive','Sales Representative']:\n",
        "        return 'Sales'\n",
        "    elif role in ['Manager']:\n",
        "        return 'Manager'\n",
        "    else:\n",
        "        return 'Others'\n",
        "\n",
        "job_udf=udf(jobfunc,StringType())\n",
        "result3=hrdata.withColumn('NewJob',job_udf(hrdata['JobRole']))\n",
        "result3.select(\"JobRole\",\"NewJob\").show(3, truncate=False)\n"
      ]
    },
    {
      "cell_type": "code",
      "execution_count": 54,
      "metadata": {
        "colab": {
          "base_uri": "https://localhost:8080/"
        },
        "id": "qdljSzcayjhM",
        "outputId": "eb53eb85-0c82-4ca9-da05-eceebcf64470"
      },
      "outputs": [
        {
          "output_type": "stream",
          "name": "stdout",
          "text": [
            "+--------------------+-------------------+\n",
            "|first(MaritalStatus)|last(MaritalStatus)|\n",
            "+--------------------+-------------------+\n",
            "|              Single|            Married|\n",
            "+--------------------+-------------------+\n",
            "\n",
            "+--------+--------+------------------+\n",
            "|min(Age)|max(Age)|          avg(Age)|\n",
            "+--------+--------+------------------+\n",
            "|      18|      60|36.923809523809524|\n",
            "+--------+--------+------------------+\n",
            "\n",
            "+------------------+----------------+\n",
            "|count(MonthlyRate)|sum(MonthlyRate)|\n",
            "+------------------+----------------+\n",
            "|              1470|        21040262|\n",
            "+------------------+----------------+\n",
            "\n",
            "+--------------------+-------------------+\n",
            "| skewness(DailyRate)|kurtosis(DailyRate)|\n",
            "+--------------------+-------------------+\n",
            "|-0.00351497695829...|-1.2038109279028495|\n",
            "+--------------------+-------------------+\n",
            "\n",
            "+------------------+--------------------+\n",
            "|stddev(HourlyRate)|var_samp(HourlyRate)|\n",
            "+------------------+--------------------+\n",
            "|20.329427593996176|  413.28562629953313|\n",
            "+------------------+--------------------+\n",
            "\n",
            "+--------------------+-------------------+\n",
            "|first(MaritalStatus)|last(MaritalStatus)|\n",
            "+--------------------+-------------------+\n",
            "|              Single|            Married|\n",
            "+--------------------+-------------------+\n",
            "\n",
            "+------------------------+\n",
            "|collect_list(Department)|\n",
            "+------------------------+\n",
            "|    [Sales, Research ...|\n",
            "+------------------------+\n",
            "\n",
            "+---------------+\n",
            "|length(JobRole)|\n",
            "+---------------+\n",
            "|             15|\n",
            "|             18|\n",
            "+---------------+\n",
            "only showing top 2 rows\n",
            "\n",
            "+-----------------------+\n",
            "|count(DISTINCT JobRole)|\n",
            "+-----------------------+\n",
            "|                      9|\n",
            "+-----------------------+\n",
            "\n",
            "+-------------------------+\n",
            "|corr(DailyRate, JobLevel)|\n",
            "+-------------------------+\n",
            "|     0.002966334855111...|\n",
            "+-------------------------+\n",
            "\n"
          ]
        }
      ],
      "source": [
        "#Using Basic SQL functions in PySpark\n",
        "from pyspark.sql.functions import count, sum, max, min, countDistinct, mean, length, stddev,kurtosis, first, last, skewness, collect_list, variance, corr, length\n",
        "\n",
        "#Displaying the values of first and last record for \"MaritalStatus column\"\n",
        "hrdata.select(first(\"MaritalStatus\"),last(\"MaritalStatus\")).show()\n",
        "\n",
        "#Displaying the minimum, maximum and mean of \"Age\" column\n",
        "hrdata.select(min(\"Age\"), max(\"Age\"), mean(\"Age\")).show()\n",
        "\n",
        "#Displaying the count and total of \"MonthlyRate\" column\n",
        "hrdata.select(count(\"MonthlyRate\"),sum(\"MonthlyRate\")).show()\n",
        "\n",
        "#Displaying the skewness and kurtosis of \"DailyRate\" column\n",
        "hrdata.select(skewness(\"DailyRate\"), kurtosis(\"DailyRate\")).show()\n",
        "\n",
        "#Displaying the standard deviation and variance of \"HourlyRate\" column\n",
        "hrdata.select(stddev(\"HourlyRate\"),variance(\"HourlyRate\")).show()\n",
        "\n",
        "#Displaying the first and last record of \"MaritalStatus\" column\n",
        "hrdata.select(first(\"MaritalStatus\"),last(\"MaritalStatus\")).show()\n",
        "\n",
        "#Displaying the entire list of items of \"Department\" column\n",
        "hrdata.select(collect_list(\"Department\")).show()\n",
        "\n",
        "#Displaying length of string\n",
        "hrdata.select(length('JobRole')).show(2)\n",
        "\n",
        "#Displaying the number of unique categories of \"JobRole\" column\n",
        "hrdata.select(countDistinct(\"JobRole\")).show()\n",
        "\n",
        "#Computing Correlation between Job Level and Daily Rate\n",
        "hrdata.select(corr('DailyRate','JobLevel')).show()\n",
        "\n"
      ]
    },
    {
      "cell_type": "code",
      "source": [
        "#Filtering Records\n",
        "#Filter records on the basis of categorical variable\n",
        "hrdata.filter(hrdata['Attrition']==\"No\").select('Age', 'Attrition', 'Department').show(2)\n",
        "\n",
        "#Filter records on the basis of continuous variable\n",
        "hrdata.filter(hrdata['DailyRate']>=1000).select('DailyRate','Attrition','JobRole').show(2)\n",
        "\n",
        "#Filter records considering multiple conditions using and\n",
        "hrdata.filter((hrdata['Age']>=55)&(hrdata['Attrition']==\"No\")&(hrdata['Department']==\"Sales\")).select('Age','Department','DailyRate','Attrition','JobRole').show(2)\n",
        "\n",
        "#Filter records considering multiple conditions using or\n",
        "hrdata.filter((hrdata['Age']>=59)|(hrdata['DailyRate']>=1400)).select('Age','Department','DailyRate','Attrition','JobRole').show(2)\n",
        "\n",
        "#Filter records considering multiple conditions using and, not\n",
        "hrdata.filter((hrdata['Age']>59) & (hrdata['MaritalStatus']!=\"Married\") & (hrdata['DailyRate']>1000)). select(\"Age\", \"MaritalStatus\", \"DailyRate\").show()\n"
      ],
      "metadata": {
        "colab": {
          "base_uri": "https://localhost:8080/"
        },
        "id": "jI-IlIu51EhS",
        "outputId": "6c5ed263-3734-4593-db9d-e497eb7959ab"
      },
      "execution_count": 52,
      "outputs": [
        {
          "output_type": "stream",
          "name": "stdout",
          "text": [
            "+---+---------+--------------------+\n",
            "|Age|Attrition|          Department|\n",
            "+---+---------+--------------------+\n",
            "| 49|       No|Research & Develo...|\n",
            "| 33|       No|Research & Develo...|\n",
            "+---+---------+--------------------+\n",
            "only showing top 2 rows\n",
            "\n",
            "+---------+---------+--------------------+\n",
            "|DailyRate|Attrition|             JobRole|\n",
            "+---------+---------+--------------------+\n",
            "|     1102|      Yes|     Sales Executive|\n",
            "|     1373|      Yes|Laboratory Techni...|\n",
            "+---------+---------+--------------------+\n",
            "only showing top 2 rows\n",
            "\n",
            "+---+----------+---------+---------+---------------+\n",
            "|Age|Department|DailyRate|Attrition|        JobRole|\n",
            "+---+----------+---------+---------+---------------+\n",
            "| 59|     Sales|     1435|       No|Sales Executive|\n",
            "| 59|     Sales|     1225|       No|Sales Executive|\n",
            "+---+----------+---------+---------+---------------+\n",
            "only showing top 2 rows\n",
            "\n",
            "+---+--------------------+---------+---------+--------------------+\n",
            "|Age|          Department|DailyRate|Attrition|             JobRole|\n",
            "+---+--------------------+---------+---------+--------------------+\n",
            "| 59|Research & Develo...|     1324|       No|Laboratory Techni...|\n",
            "| 44|Research & Develo...|     1459|       No|Healthcare Repres...|\n",
            "+---+--------------------+---------+---------+--------------------+\n",
            "only showing top 2 rows\n",
            "\n",
            "+---+-------------+---------+\n",
            "|Age|MaritalStatus|DailyRate|\n",
            "+---+-------------+---------+\n",
            "| 60|       Single|     1179|\n",
            "+---+-------------+---------+\n",
            "\n"
          ]
        }
      ]
    },
    {
      "cell_type": "code",
      "execution_count": 51,
      "metadata": {
        "colab": {
          "base_uri": "https://localhost:8080/"
        },
        "id": "V61EWE4eARKK",
        "outputId": "487ea044-236e-4673-84fb-3abaa60fdcd5"
      },
      "outputs": [
        {
          "output_type": "stream",
          "name": "stdout",
          "text": [
            "+---------+------+\n",
            "|DailyRate|Gender|\n",
            "+---------+------+\n",
            "|      102|Female|\n",
            "|      103|  Male|\n",
            "|      104|Female|\n",
            "+---------+------+\n",
            "only showing top 3 rows\n",
            "\n",
            "+---+-----------+---------+------+\n",
            "|Age|MonthlyRate|DailyRate|Gender|\n",
            "+---+-----------+---------+------+\n",
            "| 20|      26999|     1362|  Male|\n",
            "| 27|      26997|      511|Female|\n",
            "| 29|      26968|     1107|Female|\n",
            "+---+-----------+---------+------+\n",
            "only showing top 3 rows\n",
            "\n",
            "+---+--------------------+---------+\n",
            "|Age|             JobRole|DailyRate|\n",
            "+---+--------------------+---------+\n",
            "| 18|Laboratory Techni...|      230|\n",
            "| 18|Laboratory Techni...|      247|\n",
            "| 18|Laboratory Techni...|     1124|\n",
            "+---+--------------------+---------+\n",
            "only showing top 3 rows\n",
            "\n",
            "+---+----------+-----------+\n",
            "|Age|Department|MonthlyRate|\n",
            "+---+----------+-----------+\n",
            "| 60|     Sales|      11924|\n",
            "| 60|     Sales|      10893|\n",
            "| 60|     Sales|       2845|\n",
            "+---+----------+-----------+\n",
            "only showing top 3 rows\n",
            "\n"
          ]
        }
      ],
      "source": [
        "#ORDER BY CLAUSE\n",
        "#Display records in ascending order\n",
        "hrdata.orderBy(\"DailyRate\").select(\"DailyRate\",\"Gender\").show(3)\n",
        "\n",
        "#Display records in descending order\n",
        "hrdata.orderBy(\"MonthlyRate\", ascending =False).select(\"Age\", \"MonthlyRate\",\"DailyRate\", \"Gender\").show(3)\n",
        "\n",
        "#Display records in ascending order on the basis of multiple columns\n",
        "hrdata.orderBy(\"Age\", \"JobRole\",\"DailyRate\").select(\"Age\",\"JobRole\",\"DailyRate\").show(3)\n",
        "\n",
        "#Display records in descending order on the basis of multiple columns\n",
        "hrdata.orderBy(\"Age\",\"Department\",\"MonthlyRate\", ascending=False).select(\"Age\",\"Department\",\"MonthlyRate\").show(3)\n"
      ]
    },
    {
      "cell_type": "code",
      "execution_count": 50,
      "metadata": {
        "colab": {
          "base_uri": "https://localhost:8080/"
        },
        "id": "mBHaWisKbApR",
        "outputId": "f057b97f-8f02-409e-f578-5df4fd2d5160"
      },
      "outputs": [
        {
          "output_type": "stream",
          "name": "stdout",
          "text": [
            "+--------------------+--------------+\n",
            "|          Department|sum(DailyRate)|\n",
            "+--------------------+--------------+\n",
            "|               Sales|        356923|\n",
            "|Research & Develo...|        775384|\n",
            "|     Human Resources|         47347|\n",
            "+--------------------+--------------+\n",
            "\n",
            "+----------------+----------------+\n",
            "|  EducationField|max(MonthlyRate)|\n",
            "+----------------+----------------+\n",
            "|Technical Degree|           26849|\n",
            "|           Other|           26537|\n",
            "|       Marketing|           26959|\n",
            "|         Medical|           26999|\n",
            "|   Life Sciences|           26968|\n",
            "| Human Resources|           25811|\n",
            "+----------------+----------------+\n",
            "\n",
            "+------+--------------+\n",
            "|Gender|min(DailyRate)|\n",
            "+------+--------------+\n",
            "|Female|           102|\n",
            "|  Male|           103|\n",
            "+------+--------------+\n",
            "\n",
            "+--------------------+------------------+\n",
            "|             JobRole|          avg(Age)|\n",
            "+--------------------+------------------+\n",
            "|     Sales Executive| 36.88957055214724|\n",
            "|Manufacturing Dir...|38.296551724137935|\n",
            "|Laboratory Techni...|  34.0965250965251|\n",
            "|Sales Representative| 30.36144578313253|\n",
            "|Healthcare Repres...| 39.80916030534351|\n",
            "|  Research Scientist|34.236301369863014|\n",
            "|             Manager| 46.76470588235294|\n",
            "|   Research Director|              44.0|\n",
            "|     Human Resources|              35.5|\n",
            "+--------------------+------------------+\n",
            "\n",
            "+-----------------+-----+\n",
            "|   BusinessTravel|count|\n",
            "+-----------------+-----+\n",
            "|Travel_Frequently|  277|\n",
            "|       Non-Travel|  150|\n",
            "|    Travel_Rarely| 1043|\n",
            "+-----------------+-----+\n",
            "\n"
          ]
        }
      ],
      "source": [
        "#Group by function on single categorical variable\n",
        "#Displaying the total daily rate on the basis of department.\n",
        "hrdata.groupBy(\"Department\").sum(\"DailyRate\").show()\n",
        "\n",
        "#Displaying the maximum monthly rate on the basis of education field.\n",
        "hrdata.groupBy(\"EducationField\").max(\"MonthlyRate\").show()\n",
        "\n",
        "#Displaying the minimum daily rate on the basis of gender\n",
        "hrdata.groupBy(\"Gender\").min(\"DailyRate\").show()\n",
        "\n",
        "#Displaying the mean age for different job roles\n",
        "hrdata.groupBy(\"JobRole\").mean(\"Age\").show()\n",
        "\n",
        "#Displaying number of observations for business travel options\n",
        "hrdata.groupBy(\"BusinessTravel\").count().show()\n",
        "\n"
      ]
    },
    {
      "cell_type": "code",
      "source": [
        "#Group by on multiple categorical variables\n",
        "#Grouping using sum () function on the basis of Department and Gender\n",
        "hrdata.groupBy(\"Department\", \"Gender\").sum(\"DailyRate\").show()\n",
        "\n",
        "#Grouping using average for multiple columns\n",
        "hrdata.groupBy(\"Attrition\", \"Gender\", \"MaritalStatus\").avg(\"MonthlyRate\").show()\n",
        "\n",
        "#Grouping using count for multiple columns\n",
        "hrdata.groupBy(\"Department\",\"Gender\",\"Attrition\").count().show()\n"
      ],
      "metadata": {
        "colab": {
          "base_uri": "https://localhost:8080/"
        },
        "id": "1pqWQIsh5rW7",
        "outputId": "1a1454c5-735d-4005-cff4-72be175adcc8"
      },
      "execution_count": 49,
      "outputs": [
        {
          "output_type": "stream",
          "name": "stdout",
          "text": [
            "+--------------------+------+--------------+\n",
            "|          Department|Gender|sum(DailyRate)|\n",
            "+--------------------+------+--------------+\n",
            "|Research & Develo...|Female|        298980|\n",
            "|     Human Resources|Female|         17802|\n",
            "|               Sales|  Male|        198440|\n",
            "|Research & Develo...|  Male|        476404|\n",
            "|     Human Resources|  Male|         29545|\n",
            "|               Sales|Female|        158483|\n",
            "+--------------------+------+--------------+\n",
            "\n",
            "+---------+------+-------------+------------------+\n",
            "|Attrition|Gender|MaritalStatus|  avg(MonthlyRate)|\n",
            "+---------+------+-------------+------------------+\n",
            "|      Yes|  Male|     Divorced|15110.541666666666|\n",
            "|       No|Female|       Single|14958.631578947368|\n",
            "|      Yes|Female|     Divorced|17565.444444444445|\n",
            "|       No|Female|      Married|14684.933609958507|\n",
            "|      Yes|  Male|       Single|13983.561643835616|\n",
            "|       No|  Male|       Single|14641.585858585859|\n",
            "|       No|Female|     Divorced|14005.898148148148|\n",
            "|      Yes|  Male|      Married|14412.377358490567|\n",
            "|       No|  Male|      Married|13561.020114942528|\n",
            "|       No|  Male|     Divorced|14225.908602150537|\n",
            "|      Yes|Female|       Single|15220.595744680852|\n",
            "|      Yes|Female|      Married|13864.193548387097|\n",
            "+---------+------+-------------+------------------+\n",
            "\n",
            "+--------------------+------+---------+-----+\n",
            "|          Department|Gender|Attrition|count|\n",
            "+--------------------+------+---------+-----+\n",
            "|Research & Develo...|  Male|       No|  492|\n",
            "|     Human Resources|  Male|       No|   37|\n",
            "|Research & Develo...|Female|       No|  336|\n",
            "|               Sales|Female|       No|  151|\n",
            "|     Human Resources|Female|      Yes|    6|\n",
            "|               Sales|  Male|      Yes|   54|\n",
            "|     Human Resources|Female|       No|   14|\n",
            "|Research & Develo...|Female|      Yes|   43|\n",
            "|               Sales|Female|      Yes|   38|\n",
            "|     Human Resources|  Male|      Yes|    6|\n",
            "|               Sales|  Male|       No|  203|\n",
            "|Research & Develo...|  Male|      Yes|   90|\n",
            "+--------------------+------+---------+-----+\n",
            "\n"
          ]
        }
      ]
    },
    {
      "cell_type": "code",
      "source": [
        "#Aggregate functions\n",
        "hrdata.agg({\"Age\":\"min\", \"DailyRate\":\"sum\", \"Department\":\"count\", \"HourlyRate\":\"sum\"}).show(truncate=False)\n",
        "\n",
        "#Group by and aggregate functions together\n",
        "hrdata.groupBy(\"Department\").agg({\"DailyRate\":\"sum\", \"Age\":\"min\",\"MonthlyRate\":\"max\"}).show(truncate=False)\n"
      ],
      "metadata": {
        "colab": {
          "base_uri": "https://localhost:8080/"
        },
        "id": "PgyBbQqt582p",
        "outputId": "c088aa59-d453-461b-9bf9-055a990d355e"
      },
      "execution_count": 48,
      "outputs": [
        {
          "output_type": "stream",
          "name": "stdout",
          "text": [
            "+--------------+-----------------+--------+---------------+\n",
            "|sum(DailyRate)|count(Department)|min(Age)|sum(HourlyRate)|\n",
            "+--------------+-----------------+--------+---------------+\n",
            "|1179654       |1470             |18      |96860          |\n",
            "+--------------+-----------------+--------+---------------+\n",
            "\n",
            "+----------------------+--------------+----------------+--------+\n",
            "|Department            |sum(DailyRate)|max(MonthlyRate)|min(Age)|\n",
            "+----------------------+--------------+----------------+--------+\n",
            "|Sales                 |356923        |26997           |18      |\n",
            "|Research & Development|775384        |26999           |18      |\n",
            "|Human Resources       |47347         |26894           |19      |\n",
            "+----------------------+--------------+----------------+--------+\n",
            "\n"
          ]
        }
      ]
    },
    {
      "cell_type": "code",
      "source": [
        "#Display the age of male employees who are manager belonging to human resources department and have not left the organization\n",
        "hrdata.filter((hrdata['Department']=='Human Resources')&(hrdata['JobRole']=='Manager')&(hrdata['Attrition']==\"No\")&(hrdata['Gender']==\"Male\")).select('Age','Department','Gender','Attrition','JobRole').show(2)\n",
        "\n",
        "#Display the total daily rate of male divorced employees possessing different education fields\n",
        "hrdata.filter((hrdata['Gender']==\"Male\")&(hrdata['MaritalStatus']==\"Divorced\")).groupBy(\"EducationField\").sum(\"DailyRate\").show()\n",
        "\n",
        "#Display maximum monthly rate and total daily rate of single or divorced employees who left the organization belonging to different job roles\n",
        "hrdata.filter((hrdata['Attrition']==\"Yes\")&((hrdata['MaritalStatus']==\"Single\")|(hrdata['MaritalStatus']==\"Divorced\"))).groupBy(\"JobRole\").agg({\"DailyRate\":\"sum\", \"MonthlyRate\":\"max\"}).show(truncate=False)\n",
        "\n",
        "#Display average daily rate of male and female Sales Executives of different marital status belonging to sales department who have not left\n",
        "hrdata.filter((hrdata['JobRole']=='Sales Executive')&(hrdata['Attrition']==\"No\")&(hrdata['Department']==\"Sales\")).groupBy(\"Gender\",\"MaritalStatus\").avg(\"DailyRate\").show()\n",
        "\n",
        "#Display the minimum monthly rate and maximum daily rate of married managers belonging to different departments and genders\n",
        "hrdata.filter((hrdata['JobRole']==\"Manager\")&(hrdata['MaritalStatus']==\"Married\")).groupBy(\"Department\", \"Gender\").agg({\"DailyRate\":\"max\", \"MonthlyRate\":\"min\"}).show(truncate=False)\n"
      ],
      "metadata": {
        "colab": {
          "base_uri": "https://localhost:8080/"
        },
        "id": "oL3o40AI6UPZ",
        "outputId": "d86c7962-28e8-4b6d-c6d7-448095b5adb3"
      },
      "execution_count": 55,
      "outputs": [
        {
          "output_type": "stream",
          "name": "stdout",
          "text": [
            "+---+---------------+------+---------+-------+\n",
            "|Age|     Department|Gender|Attrition|JobRole|\n",
            "+---+---------------+------+---------+-------+\n",
            "| 50|Human Resources|  Male|       No|Manager|\n",
            "| 41|Human Resources|  Male|       No|Manager|\n",
            "+---+---------------+------+---------+-------+\n",
            "only showing top 2 rows\n",
            "\n",
            "+----------------+--------------+\n",
            "|  EducationField|sum(DailyRate)|\n",
            "+----------------+--------------+\n",
            "|Technical Degree|         11709|\n",
            "|           Other|         10894|\n",
            "|       Marketing|         17187|\n",
            "|         Medical|         56600|\n",
            "|   Life Sciences|         74326|\n",
            "| Human Resources|          3995|\n",
            "+----------------+--------------+\n",
            "\n",
            "+-------------------------+--------------+----------------+\n",
            "|JobRole                  |sum(DailyRate)|max(MonthlyRate)|\n",
            "+-------------------------+--------------+----------------+\n",
            "|Sales Executive          |27440         |26959           |\n",
            "|Manufacturing Director   |3469          |25150           |\n",
            "|Laboratory Technician    |33747         |26619           |\n",
            "|Sales Representative     |17921         |26820           |\n",
            "|Healthcare Representative|1906          |22930           |\n",
            "|Research Scientist       |22732         |26999           |\n",
            "|Manager                  |1449          |2493            |\n",
            "|Research Director        |286           |25761           |\n",
            "|Human Resources          |3660          |23648           |\n",
            "+-------------------------+--------------+----------------+\n",
            "\n",
            "+------+-------------+-----------------+\n",
            "|Gender|MaritalStatus|   avg(DailyRate)|\n",
            "+------+-------------+-----------------+\n",
            "|  Male|       Single|804.8666666666667|\n",
            "|  Male|     Divorced|            766.5|\n",
            "|Female|       Single|743.4666666666667|\n",
            "|Female|     Divorced|821.3913043478261|\n",
            "|  Male|      Married|792.6388888888889|\n",
            "|Female|      Married|911.8135593220339|\n",
            "+------+-------------+-----------------+\n",
            "\n",
            "+----------------------+------+--------------+----------------+\n",
            "|Department            |Gender|max(DailyRate)|min(MonthlyRate)|\n",
            "+----------------------+------+--------------+----------------+\n",
            "|Research & Development|Female|1490          |3854            |\n",
            "|Human Resources       |Female|1420          |5220            |\n",
            "|Sales                 |Male  |1099          |7770            |\n",
            "|Research & Development|Male  |1315          |4933            |\n",
            "|Human Resources       |Male  |1246          |7999            |\n",
            "|Sales                 |Female|1402          |5404            |\n",
            "+----------------------+------+--------------+----------------+\n",
            "\n"
          ]
        }
      ]
    },
    {
      "cell_type": "code",
      "source": [
        "deptdata=session.read.csv(\"DepartmentDetails.csv\", header=True, inferSchema=True)\n",
        "deptdata.show()\n",
        "\n"
      ],
      "metadata": {
        "colab": {
          "base_uri": "https://localhost:8080/"
        },
        "id": "PhAs50er97nm",
        "outputId": "ea496fe3-b961-4774-df51-45eb0780bcd1"
      },
      "execution_count": 56,
      "outputs": [
        {
          "output_type": "stream",
          "name": "stdout",
          "text": [
            "+---------------+-------+\n",
            "|     Department|Manager|\n",
            "+---------------+-------+\n",
            "|        Finance|  David|\n",
            "|          Sales|  Peter|\n",
            "|Human Resources| George|\n",
            "+---------------+-------+\n",
            "\n"
          ]
        }
      ]
    },
    {
      "cell_type": "code",
      "source": [
        "#Joining in SPARK SQL\n",
        "#Inner Join\n",
        "hrdata.join(deptdata, hrdata[\"Department\"].startswith(deptdata[\"Department\"]),\"inner\").groupBy(\"Manager\").count().show()\n",
        "#Left Outer Join\n",
        "hrdata.join(deptdata, hrdata[\"Department\"].startswith(deptdata[\"Department\"]),\"left_outer\").groupBy(\"Manager\").count().show()\n",
        "#Right Outer Join\n",
        "hrdata.join(deptdata, hrdata[\"Department\"].startswith(deptdata[\"Department\"]),\"right_outer\").groupBy(\"Manager\").count().show()\n",
        "#Full Outer Join\n",
        "hrdata.join(deptdata, hrdata[\"Department\"].startswith(deptdata[\"Department\"]),\"full_outer\").groupBy(\"Manager\").count().show()\n"
      ],
      "metadata": {
        "colab": {
          "base_uri": "https://localhost:8080/"
        },
        "id": "yhbm1Mcz-Wfi",
        "outputId": "1580369e-b327-40a6-ebe4-915718cdfd01"
      },
      "execution_count": 59,
      "outputs": [
        {
          "output_type": "stream",
          "name": "stdout",
          "text": [
            "+-------+-----+\n",
            "|Manager|count|\n",
            "+-------+-----+\n",
            "| George|   63|\n",
            "|  Peter|  446|\n",
            "+-------+-----+\n",
            "\n",
            "+-------+-----+\n",
            "|Manager|count|\n",
            "+-------+-----+\n",
            "|   NULL|  961|\n",
            "| George|   63|\n",
            "|  Peter|  446|\n",
            "+-------+-----+\n",
            "\n",
            "+-------+-----+\n",
            "|Manager|count|\n",
            "+-------+-----+\n",
            "| George|   63|\n",
            "|  Peter|  446|\n",
            "|  David|    1|\n",
            "+-------+-----+\n",
            "\n",
            "+-------+-----+\n",
            "|Manager|count|\n",
            "+-------+-----+\n",
            "|   NULL|  961|\n",
            "| George|   63|\n",
            "|  Peter|  446|\n",
            "|  David|    1|\n",
            "+-------+-----+\n",
            "\n"
          ]
        }
      ]
    }
  ],
  "metadata": {
    "colab": {
      "provenance": []
    },
    "kernelspec": {
      "display_name": "Python 3 (ipykernel)",
      "language": "python",
      "name": "python3"
    },
    "language_info": {
      "codemirror_mode": {
        "name": "ipython",
        "version": 3
      },
      "file_extension": ".py",
      "mimetype": "text/x-python",
      "name": "python",
      "nbconvert_exporter": "python",
      "pygments_lexer": "ipython3",
      "version": "3.11.4"
    }
  },
  "nbformat": 4,
  "nbformat_minor": 0
}